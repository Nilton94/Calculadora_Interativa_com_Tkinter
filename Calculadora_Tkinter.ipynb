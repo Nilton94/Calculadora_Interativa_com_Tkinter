{
 "cells": [
  {
   "cell_type": "markdown",
   "id": "9ea69c23",
   "metadata": {},
   "source": [
    "# Calculadora interativa básica usando Tkinter"
   ]
  },
  {
   "cell_type": "markdown",
   "id": "cf6a72d7",
   "metadata": {},
   "source": [
    "## Importando os módulos"
   ]
  },
  {
   "cell_type": "code",
   "execution_count": 1,
   "id": "57e0bc52",
   "metadata": {},
   "outputs": [],
   "source": [
    "from tkinter import *\n",
    "import tkinter.font as font"
   ]
  },
  {
   "cell_type": "markdown",
   "id": "bb208b5a",
   "metadata": {},
   "source": [
    "## Criando a janela onde ficam os elementos de GUI"
   ]
  },
  {
   "cell_type": "code",
   "execution_count": 2,
   "id": "77a0c26f",
   "metadata": {},
   "outputs": [],
   "source": [
    "root = Tk()"
   ]
  },
  {
   "cell_type": "markdown",
   "id": "416a0d49",
   "metadata": {},
   "source": [
    "## Adicionando o título"
   ]
  },
  {
   "cell_type": "code",
   "execution_count": 3,
   "id": "0163f158",
   "metadata": {},
   "outputs": [
    {
     "data": {
      "text/plain": [
       "''"
      ]
     },
     "execution_count": 3,
     "metadata": {},
     "output_type": "execute_result"
    }
   ],
   "source": [
    "root.title('Calculadora básica')"
   ]
  },
  {
   "cell_type": "markdown",
   "id": "7ffe405a",
   "metadata": {},
   "source": [
    "## Alterando geometria da janela"
   ]
  },
  {
   "cell_type": "code",
   "execution_count": 4,
   "id": "84cfff45",
   "metadata": {},
   "outputs": [
    {
     "data": {
      "text/plain": [
       "''"
      ]
     },
     "execution_count": 4,
     "metadata": {},
     "output_type": "execute_result"
    }
   ],
   "source": [
    "root.geometry(\"270x195\")"
   ]
  },
  {
   "cell_type": "markdown",
   "id": "17a70211",
   "metadata": {},
   "source": [
    "## Criando Widgets"
   ]
  },
  {
   "cell_type": "markdown",
   "id": "83c0deb6",
   "metadata": {},
   "source": [
    "### Entradas e rótulos"
   ]
  },
  {
   "cell_type": "code",
   "execution_count": 5,
   "id": "5ec2f890",
   "metadata": {},
   "outputs": [],
   "source": [
    "num1 = Label(root, text='Primeiro número: ', font=('Arial',11), bg='yellow')\n",
    "ent1 = Entry(root)"
   ]
  },
  {
   "cell_type": "code",
   "execution_count": 6,
   "id": "e6e63e40",
   "metadata": {},
   "outputs": [],
   "source": [
    "num2 = Label(root, text='Segundo número: ', font=('Arial',11), bg='yellow')\n",
    "ent2 = Entry(root)"
   ]
  },
  {
   "cell_type": "code",
   "execution_count": 7,
   "id": "513460d2",
   "metadata": {},
   "outputs": [],
   "source": [
    "lim = Label(root, text='Limpar', font=('Arial',11))\n",
    "limpar = Entry(root)"
   ]
  },
  {
   "cell_type": "code",
   "execution_count": 8,
   "id": "4ab89ecb",
   "metadata": {},
   "outputs": [],
   "source": [
    "resultado = Label(root)\n",
    "resu = Label(root,text='Resultado: ',font=('Arial bold',11))"
   ]
  },
  {
   "cell_type": "markdown",
   "id": "0f4691ad",
   "metadata": {},
   "source": [
    "### Funções"
   ]
  },
  {
   "cell_type": "code",
   "execution_count": 9,
   "id": "9238eecd",
   "metadata": {},
   "outputs": [],
   "source": [
    "def limpar():\n",
    "    ent1.delete(0, END)\n",
    "    ent2.delete(0, END)"
   ]
  },
  {
   "cell_type": "code",
   "execution_count": 10,
   "id": "fff5781e",
   "metadata": {},
   "outputs": [],
   "source": [
    "def adicao():\n",
    "    x = int(ent1.get())\n",
    "    y = int(ent2.get())\n",
    "    resultado['text'] = x + y"
   ]
  },
  {
   "cell_type": "code",
   "execution_count": 11,
   "id": "653de230",
   "metadata": {},
   "outputs": [],
   "source": [
    "def subtracao():\n",
    "    x = int(ent1.get())\n",
    "    y = int(ent2.get())\n",
    "    resultado['text'] = x - y"
   ]
  },
  {
   "cell_type": "code",
   "execution_count": 12,
   "id": "5a154fd7",
   "metadata": {},
   "outputs": [],
   "source": [
    "def divisao():\n",
    "    x = int(ent1.get())\n",
    "    y = int(ent2.get())\n",
    "    resultado['text'] = x / y"
   ]
  },
  {
   "cell_type": "code",
   "execution_count": 13,
   "id": "95ec574a",
   "metadata": {},
   "outputs": [],
   "source": [
    "def multiplicacao():\n",
    "    x = int(ent1.get())\n",
    "    y = int(ent2.get())\n",
    "    resultado['text'] = x * y"
   ]
  },
  {
   "cell_type": "code",
   "execution_count": 14,
   "id": "ac4a5ac6",
   "metadata": {},
   "outputs": [],
   "source": [
    "def exponenciacao():\n",
    "    x = int(ent1.get())\n",
    "    y = int(ent2.get())\n",
    "    resultado['text'] = x ** y"
   ]
  },
  {
   "cell_type": "code",
   "execution_count": 15,
   "id": "559e29ae",
   "metadata": {},
   "outputs": [],
   "source": [
    "def raiz():\n",
    "    x = int(ent1.get())\n",
    "    y = int(ent2.get())\n",
    "    resultado['text'] = x ** (1/y)"
   ]
  },
  {
   "cell_type": "markdown",
   "id": "5c634d55",
   "metadata": {},
   "source": [
    "### Botões"
   ]
  },
  {
   "cell_type": "code",
   "execution_count": 16,
   "id": "072e9db8",
   "metadata": {},
   "outputs": [],
   "source": [
    "limpar = Button(root, text = 'Limpar', font = ('Arial bold',11), width = 5, command = limpar, bg='red',fg='white')"
   ]
  },
  {
   "cell_type": "code",
   "execution_count": 17,
   "id": "f7f2a3c0",
   "metadata": {},
   "outputs": [],
   "source": [
    "adi = Button(root, text = '+', font = ('Arial bold',11), width = 5, command = adicao, bg='blue',fg='white')"
   ]
  },
  {
   "cell_type": "code",
   "execution_count": 18,
   "id": "7f9845e0",
   "metadata": {},
   "outputs": [],
   "source": [
    "sub = Button(root, text = '-', font = ('Arial bold',11), width = 5, command = subtracao, bg='blue',fg='white')"
   ]
  },
  {
   "cell_type": "code",
   "execution_count": 19,
   "id": "df5a7a0a",
   "metadata": {},
   "outputs": [],
   "source": [
    "div = Button(root, text = '/', font = ('Arial bold',11), width = 5, command = divisao, bg='blue',fg='white')"
   ]
  },
  {
   "cell_type": "code",
   "execution_count": 20,
   "id": "f23d7c8d",
   "metadata": {},
   "outputs": [],
   "source": [
    "mult = Button(root, text = '*', font = ('Arial bold',11), width = 5, command = multiplicacao, bg='blue',fg='white')"
   ]
  },
  {
   "cell_type": "code",
   "execution_count": 21,
   "id": "afd253c9",
   "metadata": {},
   "outputs": [],
   "source": [
    "exp = Button(root, text = '^', font = ('Arial bold',11), width = 5, command = exponenciacao, bg='blue',fg='white')"
   ]
  },
  {
   "cell_type": "code",
   "execution_count": 22,
   "id": "7e0be80d",
   "metadata": {},
   "outputs": [],
   "source": [
    "raiz = Button(root, text = '√', font = ('Arial bold',11), width = 5, command = raiz, bg='blue',fg='white')"
   ]
  },
  {
   "cell_type": "markdown",
   "id": "16cc44f3",
   "metadata": {},
   "source": [
    "### Disposição dos botões"
   ]
  },
  {
   "cell_type": "code",
   "execution_count": 23,
   "id": "e2889bfe",
   "metadata": {},
   "outputs": [],
   "source": [
    "num1.grid(row=0,column=0)\n",
    "ent1.grid(row=0,column=1)"
   ]
  },
  {
   "cell_type": "code",
   "execution_count": 24,
   "id": "2554a6b2",
   "metadata": {},
   "outputs": [],
   "source": [
    "num2.grid(row=1,column=0)\n",
    "ent2.grid(row=1,column=1)"
   ]
  },
  {
   "cell_type": "code",
   "execution_count": 25,
   "id": "9599b86c",
   "metadata": {},
   "outputs": [],
   "source": [
    "adi.grid(row=2,column=0)\n",
    "sub.grid(row=2,column=1)\n",
    "div.grid(row=3,column=0)\n",
    "mult.grid(row=3,column=1)\n",
    "exp.grid(row=4,column=0)\n",
    "raiz.grid(row=4,column=1)"
   ]
  },
  {
   "cell_type": "code",
   "execution_count": 26,
   "id": "186d7312",
   "metadata": {},
   "outputs": [],
   "source": [
    "resu.grid(row=6,column=0)\n",
    "resultado.grid(row=6,column=1)"
   ]
  },
  {
   "cell_type": "code",
   "execution_count": 27,
   "id": "0c777c88",
   "metadata": {},
   "outputs": [],
   "source": [
    "limpar.grid(row=8,column=0)"
   ]
  },
  {
   "cell_type": "markdown",
   "id": "e71134c7",
   "metadata": {},
   "source": [
    "# Iniciar"
   ]
  },
  {
   "cell_type": "code",
   "execution_count": 28,
   "id": "a043c756",
   "metadata": {},
   "outputs": [],
   "source": [
    "root.mainloop()"
   ]
  }
 ],
 "metadata": {
  "kernelspec": {
   "display_name": "Python 3 (ipykernel)",
   "language": "python",
   "name": "python3"
  },
  "language_info": {
   "codemirror_mode": {
    "name": "ipython",
    "version": 3
   },
   "file_extension": ".py",
   "mimetype": "text/x-python",
   "name": "python",
   "nbconvert_exporter": "python",
   "pygments_lexer": "ipython3",
   "version": "3.9.7"
  }
 },
 "nbformat": 4,
 "nbformat_minor": 5
}
